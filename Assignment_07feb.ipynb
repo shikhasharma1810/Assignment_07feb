{
 "cells": [
  {
   "cell_type": "code",
   "execution_count": 29,
   "id": "e9a39417-3e24-447d-8aa5-699976ae0980",
   "metadata": {},
   "outputs": [],
   "source": [
    "'''1.You are writing code for a company. The requirement of the company is that you create a python function that will \n",
    "check whether the password entered by the user is correct or not. The function should take the password as input and return\n",
    "the string “Valid Password” if the entered password follows the below-given password guidelines else it should return\n",
    "“Invalid Password”.\n",
    "\n",
    "1. The Password should contain at least two uppercase letters and at least two lowercase letters.\n",
    "\n",
    "2. The Password should contain at least a number and three special characters.\n",
    "\n",
    "3. The length of the password should be 10 characters long.'''\n",
    "\n",
    "def password_chk(password):\n",
    "    l, u, p, d = 0, 0, 0, 0\n",
    "    if (len(password) >=8):\n",
    "        for i in password:\n",
    " \n",
    "        # counting lowercase alphabets\n",
    "            if (i.islower()):\n",
    "               l+=1           \n",
    " \n",
    "        # counting uppercase alphabets\n",
    "            if (i.isupper()):\n",
    "               u+=1           \n",
    " \n",
    "        # counting digits\n",
    "            if (i.isdigit()):\n",
    "               d+=1           \n",
    " \n",
    "        # counting the mentioned special characters\n",
    "            if(i=='@'or i=='$' or i=='_'):\n",
    "               p+=1          \n",
    "        if (l>=2 and u>=2 and p>=3 and d>=1 and l+u+p+d==len(password)):\n",
    "            print(\"Valid Password\")\n",
    "        else:\n",
    "            print(\"Invalid Password\")"
   ]
  },
  {
   "cell_type": "code",
   "execution_count": 30,
   "id": "fc944a0c-81f8-475c-bf6e-ae18b56d76e6",
   "metadata": {},
   "outputs": [
    {
     "name": "stdout",
     "output_type": "stream",
     "text": [
      "Valid Password\n"
     ]
    }
   ],
   "source": [
    "password_chk('$H@Rma_1810')"
   ]
  },
  {
   "cell_type": "code",
   "execution_count": 32,
   "id": "12e795dd-cd6f-4fad-abdd-1164473f45d4",
   "metadata": {},
   "outputs": [
    {
     "name": "stdout",
     "output_type": "stream",
     "text": [
      "Invalid Password\n"
     ]
    }
   ],
   "source": [
    "password_chk('$HiKha_12')"
   ]
  },
  {
   "cell_type": "code",
   "execution_count": 33,
   "id": "fe9d9fe2-a73d-4f00-96b7-487601a5dbcd",
   "metadata": {},
   "outputs": [],
   "source": [
    "'''2. Solve the below-given questions using at least one of the following: \n",
    "\n",
    "1. Lambda function\n",
    "\n",
    "2. Filter function\n",
    "\n",
    "3. Map function\n",
    "\n",
    "4. List Comprehension\n",
    "\n",
    "a. Check if the string starts with a particular letter.'''\n",
    "\n",
    "string = lambda s:'Yes, it starts with S' if s[0]=='S' or s[0]=='s' else ('String starts with another letter')\n",
    "       "
   ]
  },
  {
   "cell_type": "code",
   "execution_count": 34,
   "id": "83f2a9ff-0197-4ff1-86c3-67778c272196",
   "metadata": {},
   "outputs": [
    {
     "data": {
      "text/plain": [
       "'Yes, it starts with S'"
      ]
     },
     "execution_count": 34,
     "metadata": {},
     "output_type": "execute_result"
    }
   ],
   "source": [
    "string('Shikha')"
   ]
  },
  {
   "cell_type": "code",
   "execution_count": 35,
   "id": "03c3daa3-9bab-46c9-9ed1-e8fc35b11a8b",
   "metadata": {},
   "outputs": [
    {
     "data": {
      "text/plain": [
       "'String starts with another letter'"
      ]
     },
     "execution_count": 35,
     "metadata": {},
     "output_type": "execute_result"
    }
   ],
   "source": [
    "string('nikki')"
   ]
  },
  {
   "cell_type": "code",
   "execution_count": 8,
   "id": "021f8cc5-2dd7-4d91-9b52-e64b5c294b70",
   "metadata": {},
   "outputs": [],
   "source": [
    "'''b. Check if the string is numeric.'''\n",
    "\n",
    "\n",
    "string1 = lambda s: 'String is numeric' if s.isnumeric() else 'String is not numeric'"
   ]
  },
  {
   "cell_type": "code",
   "execution_count": 9,
   "id": "355d1d07-89e5-4a01-b2f3-f88c0f9ec151",
   "metadata": {},
   "outputs": [
    {
     "data": {
      "text/plain": [
       "'String is not numeric'"
      ]
     },
     "execution_count": 9,
     "metadata": {},
     "output_type": "execute_result"
    }
   ],
   "source": [
    "string1 ('khushi')"
   ]
  },
  {
   "cell_type": "code",
   "execution_count": 11,
   "id": "2d801350-4f93-458e-b6fe-a2565b402cb5",
   "metadata": {},
   "outputs": [
    {
     "data": {
      "text/plain": [
       "'String is numeric'"
      ]
     },
     "execution_count": 11,
     "metadata": {},
     "output_type": "execute_result"
    }
   ],
   "source": [
    "string1('4562')"
   ]
  },
  {
   "cell_type": "code",
   "execution_count": 60,
   "id": "0bc42c25-f6f2-46c2-9e87-7b41c7637524",
   "metadata": {},
   "outputs": [],
   "source": [
    "'''c. Sort a list of tuples having fruit names and their quantity. [(\"mango\",99),(\"orange\",80), (\"grapes\", 1000)].'''\n",
    "\n",
    "l= [(\"mango\",99),(\"orange\",80), (\"grapes\", 1000)]\n",
    "l1=lambda l: print(sorted(l))"
   ]
  },
  {
   "cell_type": "code",
   "execution_count": 61,
   "id": "6c27fe67-bef5-4315-a750-c68f1afff791",
   "metadata": {},
   "outputs": [
    {
     "data": {
      "text/plain": [
       "[('grapes', 1000), ('mango', 99), ('orange', 80)]"
      ]
     },
     "execution_count": 61,
     "metadata": {},
     "output_type": "execute_result"
    }
   ],
   "source": [
    "sorted(l)"
   ]
  },
  {
   "cell_type": "code",
   "execution_count": 73,
   "id": "3e2a54cd-660a-4a6f-b6a1-747e437d089e",
   "metadata": {},
   "outputs": [
    {
     "data": {
      "text/plain": [
       "[1, 4, 9, 16, 25, 36, 49, 64, 81, 100]"
      ]
     },
     "execution_count": 73,
     "metadata": {},
     "output_type": "execute_result"
    }
   ],
   "source": [
    "'''d. Find the squares of numbers from 1 to 10.'''\n",
    "\n",
    "[i*i for i in range(1,11)] "
   ]
  },
  {
   "cell_type": "code",
   "execution_count": 74,
   "id": "c30526e1-2e69-4f27-9ca0-a37eaafd85bc",
   "metadata": {},
   "outputs": [
    {
     "data": {
      "text/plain": [
       "[1, 8, 27, 64, 125, 216, 343, 512, 729, 1000]"
      ]
     },
     "execution_count": 74,
     "metadata": {},
     "output_type": "execute_result"
    }
   ],
   "source": [
    "'''e. Find the cube root of numbers from 1 to 10.'''\n",
    "\n",
    "[i*i*i for i in range(1,11)] "
   ]
  },
  {
   "cell_type": "code",
   "execution_count": 27,
   "id": "c2fce525-866d-49b7-a592-6b931b9632f2",
   "metadata": {},
   "outputs": [
    {
     "name": "stdin",
     "output_type": "stream",
     "text": [
      "enter the number 23\n"
     ]
    },
    {
     "name": "stdout",
     "output_type": "stream",
     "text": [
      "Number is odd\n"
     ]
    }
   ],
   "source": [
    "'''f.Check if a given number is even.'''\n",
    "\n",
    "no=int(input(\"enter the number\" ))\n",
    "result=[print('Number is even') if no%2==0 else print('Number is odd')]"
   ]
  },
  {
   "cell_type": "code",
   "execution_count": 33,
   "id": "0c5db3a3-f333-42be-be84-2aa800e14ebd",
   "metadata": {},
   "outputs": [
    {
     "data": {
      "text/plain": [
       "[1, 3, 5, 7, 9]"
      ]
     },
     "execution_count": 33,
     "metadata": {},
     "output_type": "execute_result"
    }
   ],
   "source": [
    "'''g.Filter odd numbers from the given list [1,2,3,4,5,6,7,8,9,10]'''\n",
    "\n",
    "l=[1,2,3,4,5,6,7,8,9,10]\n",
    "[i for i in l if i%2!=0]"
   ]
  },
  {
   "cell_type": "code",
   "execution_count": 154,
   "id": "ad3cd3fb-cdf9-41be-8057-19965b13ff33",
   "metadata": {},
   "outputs": [
    {
     "name": "stdout",
     "output_type": "stream",
     "text": [
      "Result after performing sort operation :  [1, 2, 3, 4, 5, 6, 0, -5, -4, -3, -2, -1]\n"
     ]
    }
   ],
   "source": [
    "'''h.Sort a list of integers into positive and negative integers lists. [1,2,3,4,5,6,-1,-2,-3,-4,-5,0]'''\n",
    "\n",
    "l= [1,2,3,4,5,6,-1,-2,-3,-4,-5,0]\n",
    "result = sorted(l,key=lambda i: 0 if i == 0 else -1 / i)\n",
    "print(\"Result after performing sort operation : \", result)"
   ]
  }
 ],
 "metadata": {
  "kernelspec": {
   "display_name": "Python 3 (ipykernel)",
   "language": "python",
   "name": "python3"
  },
  "language_info": {
   "codemirror_mode": {
    "name": "ipython",
    "version": 3
   },
   "file_extension": ".py",
   "mimetype": "text/x-python",
   "name": "python",
   "nbconvert_exporter": "python",
   "pygments_lexer": "ipython3",
   "version": "3.10.8"
  }
 },
 "nbformat": 4,
 "nbformat_minor": 5
}
